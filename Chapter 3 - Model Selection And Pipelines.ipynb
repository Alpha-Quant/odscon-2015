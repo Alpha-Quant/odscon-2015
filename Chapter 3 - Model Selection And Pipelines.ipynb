{
 "metadata": {
  "name": ""
 },
 "nbformat": 3,
 "nbformat_minor": 0,
 "worksheets": [
  {
   "cells": [
    {
     "cell_type": "markdown",
     "metadata": {},
     "source": [
      "Model Selection\n",
      "================="
     ]
    },
    {
     "cell_type": "markdown",
     "metadata": {},
     "source": [
      "Grid-Search with build-in cross validation"
     ]
    },
    {
     "cell_type": "code",
     "collapsed": false,
     "input": [
      "from sklearn.grid_search import GridSearchCV"
     ],
     "language": "python",
     "metadata": {},
     "outputs": [],
     "prompt_number": 1
    },
    {
     "cell_type": "markdown",
     "metadata": {},
     "source": [
      "Define parameter grid:"
     ]
    },
    {
     "cell_type": "code",
     "collapsed": false,
     "input": [
      "import numpy as np\n",
      "param_grid = {'C': 10. ** np.arange(-3, 3), 'gamma' : 10. ** np.arange(-3, 3)}\n",
      "np.set_printoptions(suppress=True)\n",
      "print(param_grid)"
     ],
     "language": "python",
     "metadata": {},
     "outputs": [
      {
       "output_type": "stream",
       "stream": "stdout",
       "text": [
        "{'C': array([   0.001,    0.01 ,    0.1  ,    1.   ,   10.   ,  100.   ]), 'gamma': array([   0.001,    0.01 ,    0.1  ,    1.   ,   10.   ,  100.   ])}\n"
       ]
      }
     ],
     "prompt_number": 3
    },
    {
     "cell_type": "code",
     "collapsed": false,
     "input": [
      "from sklearn.svm import SVC\n",
      "grid_search = GridSearchCV(SVC(), param_grid, verbose=3)"
     ],
     "language": "python",
     "metadata": {},
     "outputs": [],
     "prompt_number": 4
    },
    {
     "cell_type": "markdown",
     "metadata": {},
     "source": [
      "A GridSearchCV object behaves just like a normal classifier."
     ]
    },
    {
     "cell_type": "code",
     "collapsed": false,
     "input": [
      "from sklearn.datasets import load_digits\n",
      "from sklearn.cross_validation import train_test_split\n",
      "digits = load_digits()\n",
      "X_train, X_test, y_train, y_test = train_test_split(digits.data, digits.target)"
     ],
     "language": "python",
     "metadata": {},
     "outputs": [],
     "prompt_number": 5
    },
    {
     "cell_type": "code",
     "collapsed": false,
     "input": [
      "grid_search.fit(X_train, y_train)"
     ],
     "language": "python",
     "metadata": {},
     "outputs": [
      {
       "output_type": "stream",
       "stream": "stdout",
       "text": [
        "Fitting 3 folds for each of 36 candidates, totalling 108 fits\n",
        "[CV] C=0.001, gamma=0.001 ............................................\n",
        "[CV] ................... C=0.001, gamma=0.001, score=0.106195 -   0.2s"
       ]
      },
      {
       "output_type": "stream",
       "stream": "stdout",
       "text": [
        "\n",
        "[CV] C=0.001, gamma=0.001 ............................................\n",
        "[CV] ................... C=0.001, gamma=0.001, score=0.106904 -   0.2s"
       ]
      },
      {
       "output_type": "stream",
       "stream": "stdout",
       "text": [
        "\n",
        "[CV] C=0.001, gamma=0.001 ............................................\n",
        "[CV] ................... C=0.001, gamma=0.001, score=0.107623 -   0.2s"
       ]
      },
      {
       "output_type": "stream",
       "stream": "stdout",
       "text": [
        "\n",
        "[CV] C=0.001, gamma=0.01 .............................................\n",
        "[CV] .................... C=0.001, gamma=0.01, score=0.106195 -   0.2s"
       ]
      },
      {
       "output_type": "stream",
       "stream": "stdout",
       "text": [
        "\n",
        "[CV] C=0.001, gamma=0.01 .............................................\n",
        "[CV] .................... C=0.001, gamma=0.01, score=0.106904 -   0.2s"
       ]
      },
      {
       "output_type": "stream",
       "stream": "stdout",
       "text": [
        "\n",
        "[CV] C=0.001, gamma=0.01 .............................................\n",
        "[CV] .................... C=0.001, gamma=0.01, score=0.107623 -   0.2s"
       ]
      },
      {
       "output_type": "stream",
       "stream": "stdout",
       "text": [
        "\n",
        "[CV] C=0.001, gamma=0.1 ..............................................\n",
        "[CV] ..................... C=0.001, gamma=0.1, score=0.106195 -   0.2s"
       ]
      },
      {
       "output_type": "stream",
       "stream": "stdout",
       "text": [
        "\n",
        "[CV] C=0.001, gamma=0.1 ..............................................\n",
        "[CV] ..................... C=0.001, gamma=0.1, score=0.106904 -   0.2s"
       ]
      },
      {
       "output_type": "stream",
       "stream": "stdout",
       "text": [
        "\n",
        "[CV] C=0.001, gamma=0.1 ..............................................\n",
        "[CV] ..................... C=0.001, gamma=0.1, score=0.107623 -   0.2s"
       ]
      },
      {
       "output_type": "stream",
       "stream": "stdout",
       "text": [
        "\n",
        "[CV] C=0.001, gamma=1.0 ..............................................\n",
        "[CV] ..................... C=0.001, gamma=1.0, score=0.106195 -   0.2s"
       ]
      },
      {
       "output_type": "stream",
       "stream": "stdout",
       "text": [
        "\n",
        "[CV] C=0.001, gamma=1.0 ..............................................\n",
        "[CV] ..................... C=0.001, gamma=1.0, score=0.106904 -   0.2s"
       ]
      },
      {
       "output_type": "stream",
       "stream": "stdout",
       "text": [
        "\n",
        "[CV] C=0.001, gamma=1.0 ..............................................\n",
        "[CV] ..................... C=0.001, gamma=1.0, score=0.107623 -   0.2s"
       ]
      },
      {
       "output_type": "stream",
       "stream": "stdout",
       "text": [
        "\n",
        "[CV] C=0.001, gamma=10.0 .............................................\n",
        "[CV] .................... C=0.001, gamma=10.0, score=0.106195 -   0.2s"
       ]
      },
      {
       "output_type": "stream",
       "stream": "stdout",
       "text": [
        "\n",
        "[CV] C=0.001, gamma=10.0 .............................................\n",
        "[CV] .................... C=0.001, gamma=10.0, score=0.106904 -   0.2s"
       ]
      },
      {
       "output_type": "stream",
       "stream": "stdout",
       "text": [
        "\n",
        "[CV] C=0.001, gamma=10.0 .............................................\n",
        "[CV] .................... C=0.001, gamma=10.0, score=0.107623 -   0.2s"
       ]
      },
      {
       "output_type": "stream",
       "stream": "stdout",
       "text": [
        "\n",
        "[CV] C=0.001, gamma=100.0 ............................................\n",
        "[CV] ................... C=0.001, gamma=100.0, score=0.106195 -   0.2s"
       ]
      },
      {
       "output_type": "stream",
       "stream": "stdout",
       "text": [
        "\n",
        "[CV] C=0.001, gamma=100.0 ............................................\n",
        "[CV] ................... C=0.001, gamma=100.0, score=0.106904 -   0.2s"
       ]
      },
      {
       "output_type": "stream",
       "stream": "stdout",
       "text": [
        "\n",
        "[CV] C=0.001, gamma=100.0 ............................................\n",
        "[CV] ................... C=0.001, gamma=100.0, score=0.107623 -   0.2s"
       ]
      },
      {
       "output_type": "stream",
       "stream": "stdout",
       "text": [
        "\n",
        "[CV] C=0.01, gamma=0.001 .............................................\n",
        "[CV] .................... C=0.01, gamma=0.001, score=0.106195 -   0.2s"
       ]
      },
      {
       "output_type": "stream",
       "stream": "stdout",
       "text": [
        "\n",
        "[CV] C=0.01, gamma=0.001 .............................................\n",
        "[CV] .................... C=0.01, gamma=0.001, score=0.106904 -   0.2s"
       ]
      },
      {
       "output_type": "stream",
       "stream": "stdout",
       "text": [
        "\n",
        "[CV] C=0.01, gamma=0.001 .............................................\n",
        "[CV] .................... C=0.01, gamma=0.001, score=0.107623 -   0.2s"
       ]
      },
      {
       "output_type": "stream",
       "stream": "stdout",
       "text": [
        "\n",
        "[CV] C=0.01, gamma=0.01 ..............................................\n",
        "[CV] ..................... C=0.01, gamma=0.01, score=0.106195 -   0.2s"
       ]
      },
      {
       "output_type": "stream",
       "stream": "stdout",
       "text": [
        "\n",
        "[CV] C=0.01, gamma=0.01 ..............................................\n",
        "[CV] ..................... C=0.01, gamma=0.01, score=0.106904 -   0.2s"
       ]
      },
      {
       "output_type": "stream",
       "stream": "stdout",
       "text": [
        "\n",
        "[CV] C=0.01, gamma=0.01 ..............................................\n",
        "[CV] ..................... C=0.01, gamma=0.01, score=0.107623 -   0.2s"
       ]
      },
      {
       "output_type": "stream",
       "stream": "stdout",
       "text": [
        "\n",
        "[CV] C=0.01, gamma=0.1 ...............................................\n",
        "[CV] ...................... C=0.01, gamma=0.1, score=0.106195 -   0.2s"
       ]
      },
      {
       "output_type": "stream",
       "stream": "stdout",
       "text": [
        "\n",
        "[CV] C=0.01, gamma=0.1 ...............................................\n",
        "[CV] ...................... C=0.01, gamma=0.1, score=0.106904 -   0.2s"
       ]
      },
      {
       "output_type": "stream",
       "stream": "stdout",
       "text": [
        "\n",
        "[CV] C=0.01, gamma=0.1 ...............................................\n",
        "[CV] ...................... C=0.01, gamma=0.1, score=0.107623 -   0.2s"
       ]
      },
      {
       "output_type": "stream",
       "stream": "stdout",
       "text": [
        "\n",
        "[CV] C=0.01, gamma=1.0 ...............................................\n",
        "[CV] ...................... C=0.01, gamma=1.0, score=0.106195 -   0.2s"
       ]
      },
      {
       "output_type": "stream",
       "stream": "stdout",
       "text": [
        "\n",
        "[CV] C=0.01, gamma=1.0 ...............................................\n",
        "[CV] ...................... C=0.01, gamma=1.0, score=0.106904 -   0.2s"
       ]
      },
      {
       "output_type": "stream",
       "stream": "stdout",
       "text": [
        "\n",
        "[CV] C=0.01, gamma=1.0 ...............................................\n",
        "[CV] ...................... C=0.01, gamma=1.0, score=0.107623 -   0.2s"
       ]
      },
      {
       "output_type": "stream",
       "stream": "stdout",
       "text": [
        "\n",
        "[CV] C=0.01, gamma=10.0 ..............................................\n",
        "[CV] ..................... C=0.01, gamma=10.0, score=0.106195 -   0.2s"
       ]
      },
      {
       "output_type": "stream",
       "stream": "stdout",
       "text": [
        "\n",
        "[CV] C=0.01, gamma=10.0 ..............................................\n",
        "[CV] ..................... C=0.01, gamma=10.0, score=0.106904 -   0.2s"
       ]
      },
      {
       "output_type": "stream",
       "stream": "stderr",
       "text": [
        "[Parallel(n_jobs=1)]: Done   1 jobs       | elapsed:    0.2s\n",
        "[Parallel(n_jobs=1)]: Done  32 jobs       | elapsed:    5.9s\n"
       ]
      },
      {
       "output_type": "stream",
       "stream": "stdout",
       "text": [
        "\n",
        "[CV] C=0.01, gamma=10.0 ..............................................\n",
        "[CV] ..................... C=0.01, gamma=10.0, score=0.107623 -   0.2s"
       ]
      },
      {
       "output_type": "stream",
       "stream": "stdout",
       "text": [
        "\n",
        "[CV] C=0.01, gamma=100.0 .............................................\n",
        "[CV] .................... C=0.01, gamma=100.0, score=0.106195 -   0.2s"
       ]
      },
      {
       "output_type": "stream",
       "stream": "stdout",
       "text": [
        "\n",
        "[CV] C=0.01, gamma=100.0 .............................................\n",
        "[CV] .................... C=0.01, gamma=100.0, score=0.106904 -   0.2s"
       ]
      },
      {
       "output_type": "stream",
       "stream": "stdout",
       "text": [
        "\n",
        "[CV] C=0.01, gamma=100.0 .............................................\n",
        "[CV] .................... C=0.01, gamma=100.0, score=0.107623 -   0.2s"
       ]
      },
      {
       "output_type": "stream",
       "stream": "stdout",
       "text": [
        "\n",
        "[CV] C=0.1, gamma=0.001 ..............................................\n",
        "[CV] ..................... C=0.1, gamma=0.001, score=0.944690 -   0.1s"
       ]
      },
      {
       "output_type": "stream",
       "stream": "stdout",
       "text": [
        "\n",
        "[CV] C=0.1, gamma=0.001 ..............................................\n",
        "[CV] ..................... C=0.1, gamma=0.001, score=0.962138 -   0.1s"
       ]
      },
      {
       "output_type": "stream",
       "stream": "stdout",
       "text": [
        "\n",
        "[CV] C=0.1, gamma=0.001 ..............................................\n",
        "[CV] ..................... C=0.1, gamma=0.001, score=0.959641 -   0.1s"
       ]
      },
      {
       "output_type": "stream",
       "stream": "stdout",
       "text": [
        "\n",
        "[CV] C=0.1, gamma=0.01 ...............................................\n",
        "[CV] ...................... C=0.1, gamma=0.01, score=0.106195 -   0.2s"
       ]
      },
      {
       "output_type": "stream",
       "stream": "stdout",
       "text": [
        "\n",
        "[CV] C=0.1, gamma=0.01 ...............................................\n",
        "[CV] ...................... C=0.1, gamma=0.01, score=0.106904 -   0.2s"
       ]
      },
      {
       "output_type": "stream",
       "stream": "stdout",
       "text": [
        "\n",
        "[CV] C=0.1, gamma=0.01 ...............................................\n",
        "[CV] ...................... C=0.1, gamma=0.01, score=0.107623 -   0.2s"
       ]
      },
      {
       "output_type": "stream",
       "stream": "stdout",
       "text": [
        "\n",
        "[CV] C=0.1, gamma=0.1 ................................................\n",
        "[CV] ....................... C=0.1, gamma=0.1, score=0.106195 -   0.2s"
       ]
      },
      {
       "output_type": "stream",
       "stream": "stdout",
       "text": [
        "\n",
        "[CV] C=0.1, gamma=0.1 ................................................\n",
        "[CV] ....................... C=0.1, gamma=0.1, score=0.106904 -   0.2s"
       ]
      },
      {
       "output_type": "stream",
       "stream": "stdout",
       "text": [
        "\n",
        "[CV] C=0.1, gamma=0.1 ................................................\n",
        "[CV] ....................... C=0.1, gamma=0.1, score=0.107623 -   0.2s"
       ]
      },
      {
       "output_type": "stream",
       "stream": "stdout",
       "text": [
        "\n",
        "[CV] C=0.1, gamma=1.0 ................................................\n",
        "[CV] ....................... C=0.1, gamma=1.0, score=0.106195 -   0.2s"
       ]
      },
      {
       "output_type": "stream",
       "stream": "stdout",
       "text": [
        "\n",
        "[CV] C=0.1, gamma=1.0 ................................................\n",
        "[CV] ....................... C=0.1, gamma=1.0, score=0.106904 -   0.2s"
       ]
      },
      {
       "output_type": "stream",
       "stream": "stdout",
       "text": [
        "\n",
        "[CV] C=0.1, gamma=1.0 ................................................\n",
        "[CV] ....................... C=0.1, gamma=1.0, score=0.107623 -   0.2s"
       ]
      },
      {
       "output_type": "stream",
       "stream": "stdout",
       "text": [
        "\n",
        "[CV] C=0.1, gamma=10.0 ...............................................\n",
        "[CV] ...................... C=0.1, gamma=10.0, score=0.106195 -   0.2s"
       ]
      },
      {
       "output_type": "stream",
       "stream": "stdout",
       "text": [
        "\n",
        "[CV] C=0.1, gamma=10.0 ...............................................\n",
        "[CV] ...................... C=0.1, gamma=10.0, score=0.106904 -   0.2s"
       ]
      },
      {
       "output_type": "stream",
       "stream": "stdout",
       "text": [
        "\n",
        "[CV] C=0.1, gamma=10.0 ...............................................\n",
        "[CV] ...................... C=0.1, gamma=10.0, score=0.107623 -   0.2s"
       ]
      },
      {
       "output_type": "stream",
       "stream": "stdout",
       "text": [
        "\n",
        "[CV] C=0.1, gamma=100.0 ..............................................\n",
        "[CV] ..................... C=0.1, gamma=100.0, score=0.106195 -   0.2s"
       ]
      },
      {
       "output_type": "stream",
       "stream": "stdout",
       "text": [
        "\n",
        "[CV] C=0.1, gamma=100.0 ..............................................\n",
        "[CV] ..................... C=0.1, gamma=100.0, score=0.106904 -   0.2s"
       ]
      },
      {
       "output_type": "stream",
       "stream": "stdout",
       "text": [
        "\n",
        "[CV] C=0.1, gamma=100.0 ..............................................\n",
        "[CV] ..................... C=0.1, gamma=100.0, score=0.107623 -   0.2s"
       ]
      },
      {
       "output_type": "stream",
       "stream": "stdout",
       "text": [
        "\n",
        "[CV] C=1.0, gamma=0.001 ..............................................\n",
        "[CV] ..................... C=1.0, gamma=0.001, score=0.982301 -   0.1s"
       ]
      },
      {
       "output_type": "stream",
       "stream": "stdout",
       "text": [
        "\n",
        "[CV] C=1.0, gamma=0.001 ..............................................\n",
        "[CV] ..................... C=1.0, gamma=0.001, score=0.997773 -   0.1s"
       ]
      },
      {
       "output_type": "stream",
       "stream": "stdout",
       "text": [
        "\n",
        "[CV] C=1.0, gamma=0.001 ..............................................\n",
        "[CV] ..................... C=1.0, gamma=0.001, score=0.988789 -   0.1s"
       ]
      },
      {
       "output_type": "stream",
       "stream": "stdout",
       "text": [
        "\n",
        "[CV] C=1.0, gamma=0.01 ...............................................\n",
        "[CV] ...................... C=1.0, gamma=0.01, score=0.756637 -   0.2s"
       ]
      },
      {
       "output_type": "stream",
       "stream": "stdout",
       "text": [
        "\n",
        "[CV] C=1.0, gamma=0.01 ...............................................\n",
        "[CV] ...................... C=1.0, gamma=0.01, score=0.848552 -   0.2s"
       ]
      },
      {
       "output_type": "stream",
       "stream": "stdout",
       "text": [
        "\n",
        "[CV] C=1.0, gamma=0.01 ...............................................\n",
        "[CV] ...................... C=1.0, gamma=0.01, score=0.843049 -   0.2s"
       ]
      },
      {
       "output_type": "stream",
       "stream": "stdout",
       "text": [
        "\n",
        "[CV] C=1.0, gamma=0.1 ................................................\n",
        "[CV] ....................... C=1.0, gamma=0.1, score=0.106195 -   0.2s"
       ]
      },
      {
       "output_type": "stream",
       "stream": "stdout",
       "text": [
        "\n",
        "[CV] C=1.0, gamma=0.1 ................................................\n",
        "[CV] ....................... C=1.0, gamma=0.1, score=0.106904 -   0.2s"
       ]
      },
      {
       "output_type": "stream",
       "stream": "stdout",
       "text": [
        "\n",
        "[CV] C=1.0, gamma=0.1 ................................................\n",
        "[CV] ....................... C=1.0, gamma=0.1, score=0.107623 -   0.2s"
       ]
      },
      {
       "output_type": "stream",
       "stream": "stdout",
       "text": [
        "\n",
        "[CV] C=1.0, gamma=1.0 ................................................\n",
        "[CV] ....................... C=1.0, gamma=1.0, score=0.106195 -   0.2s"
       ]
      },
      {
       "output_type": "stream",
       "stream": "stdout",
       "text": [
        "\n",
        "[CV] C=1.0, gamma=1.0 ................................................\n",
        "[CV] ....................... C=1.0, gamma=1.0, score=0.106904 -   0.2s"
       ]
      },
      {
       "output_type": "stream",
       "stream": "stdout",
       "text": [
        "\n",
        "[CV] C=1.0, gamma=1.0 ................................................\n",
        "[CV] ....................... C=1.0, gamma=1.0, score=0.107623 -   0.2s"
       ]
      },
      {
       "output_type": "stream",
       "stream": "stdout",
       "text": [
        "\n",
        "[CV] C=1.0, gamma=10.0 ...............................................\n",
        "[CV] ...................... C=1.0, gamma=10.0, score=0.106195 -   0.2s"
       ]
      },
      {
       "output_type": "stream",
       "stream": "stdout",
       "text": [
        "\n",
        "[CV] C=1.0, gamma=10.0 ...............................................\n",
        "[CV] ...................... C=1.0, gamma=10.0, score=0.106904 -   0.2s"
       ]
      },
      {
       "output_type": "stream",
       "stream": "stdout",
       "text": [
        "\n",
        "[CV] C=1.0, gamma=10.0 ...............................................\n",
        "[CV] ...................... C=1.0, gamma=10.0, score=0.107623 -   0.2s"
       ]
      },
      {
       "output_type": "stream",
       "stream": "stdout",
       "text": [
        "\n",
        "[CV] C=1.0, gamma=100.0 ..............................................\n",
        "[CV] ..................... C=1.0, gamma=100.0, score=0.106195 -   0.2s"
       ]
      },
      {
       "output_type": "stream",
       "stream": "stdout",
       "text": [
        "\n",
        "[CV] C=1.0, gamma=100.0 ..............................................\n",
        "[CV] ..................... C=1.0, gamma=100.0, score=0.106904 -   0.2s"
       ]
      },
      {
       "output_type": "stream",
       "stream": "stdout",
       "text": [
        "\n",
        "[CV] C=1.0, gamma=100.0 ..............................................\n",
        "[CV] ..................... C=1.0, gamma=100.0, score=0.107623 -   0.2s"
       ]
      },
      {
       "output_type": "stream",
       "stream": "stdout",
       "text": [
        "\n",
        "[CV] C=10.0, gamma=0.001 .............................................\n",
        "[CV] .................... C=10.0, gamma=0.001, score=0.982301 -   0.1s"
       ]
      },
      {
       "output_type": "stream",
       "stream": "stdout",
       "text": [
        "\n",
        "[CV] C=10.0, gamma=0.001 .............................................\n",
        "[CV] .................... C=10.0, gamma=0.001, score=1.000000 -   0.1s"
       ]
      },
      {
       "output_type": "stream",
       "stream": "stdout",
       "text": [
        "\n",
        "[CV] C=10.0, gamma=0.001 .............................................\n",
        "[CV] .................... C=10.0, gamma=0.001, score=0.993274 -   0.1s"
       ]
      },
      {
       "output_type": "stream",
       "stream": "stdout",
       "text": [
        "\n",
        "[CV] C=10.0, gamma=0.01 ..............................................\n",
        "[CV] ..................... C=10.0, gamma=0.01, score=0.780973 -   0.2s"
       ]
      },
      {
       "output_type": "stream",
       "stream": "stdout",
       "text": [
        "\n",
        "[CV] C=10.0, gamma=0.01 ..............................................\n",
        "[CV] ..................... C=10.0, gamma=0.01, score=0.850780 -   0.2s"
       ]
      },
      {
       "output_type": "stream",
       "stream": "stdout",
       "text": [
        "\n",
        "[CV] C=10.0, gamma=0.01 ..............................................\n",
        "[CV] ..................... C=10.0, gamma=0.01, score=0.856502 -   0.2s"
       ]
      },
      {
       "output_type": "stream",
       "stream": "stdout",
       "text": [
        "\n",
        "[CV] C=10.0, gamma=0.1 ...............................................\n",
        "[CV] ...................... C=10.0, gamma=0.1, score=0.106195 -   0.2s"
       ]
      },
      {
       "output_type": "stream",
       "stream": "stdout",
       "text": [
        "\n",
        "[CV] C=10.0, gamma=0.1 ...............................................\n",
        "[CV] ...................... C=10.0, gamma=0.1, score=0.106904 -   0.2s"
       ]
      },
      {
       "output_type": "stream",
       "stream": "stdout",
       "text": [
        "\n",
        "[CV] C=10.0, gamma=0.1 ...............................................\n",
        "[CV] ...................... C=10.0, gamma=0.1, score=0.107623 -   0.2s"
       ]
      },
      {
       "output_type": "stream",
       "stream": "stdout",
       "text": [
        "\n",
        "[CV] C=10.0, gamma=1.0 ...............................................\n",
        "[CV] ...................... C=10.0, gamma=1.0, score=0.106195 -   0.2s"
       ]
      },
      {
       "output_type": "stream",
       "stream": "stdout",
       "text": [
        "\n",
        "[CV] C=10.0, gamma=1.0 ...............................................\n",
        "[CV] ...................... C=10.0, gamma=1.0, score=0.106904 -   0.2s"
       ]
      },
      {
       "output_type": "stream",
       "stream": "stdout",
       "text": [
        "\n",
        "[CV] C=10.0, gamma=1.0 ...............................................\n",
        "[CV] ...................... C=10.0, gamma=1.0, score=0.107623 -   0.2s"
       ]
      },
      {
       "output_type": "stream",
       "stream": "stdout",
       "text": [
        "\n",
        "[CV] C=10.0, gamma=10.0 ..............................................\n",
        "[CV] ..................... C=10.0, gamma=10.0, score=0.106195 -   0.2s"
       ]
      },
      {
       "output_type": "stream",
       "stream": "stdout",
       "text": [
        "\n",
        "[CV] C=10.0, gamma=10.0 ..............................................\n",
        "[CV] ..................... C=10.0, gamma=10.0, score=0.106904 -   0.2s"
       ]
      },
      {
       "output_type": "stream",
       "stream": "stdout",
       "text": [
        "\n",
        "[CV] C=10.0, gamma=10.0 ..............................................\n",
        "[CV] ..................... C=10.0, gamma=10.0, score=0.107623 -   0.2s"
       ]
      },
      {
       "output_type": "stream",
       "stream": "stdout",
       "text": [
        "\n",
        "[CV] C=10.0, gamma=100.0 .............................................\n",
        "[CV] .................... C=10.0, gamma=100.0, score=0.106195 -   0.2s"
       ]
      },
      {
       "output_type": "stream",
       "stream": "stdout",
       "text": [
        "\n",
        "[CV] C=10.0, gamma=100.0 .............................................\n",
        "[CV] .................... C=10.0, gamma=100.0, score=0.106904 -   0.2s"
       ]
      },
      {
       "output_type": "stream",
       "stream": "stdout",
       "text": [
        "\n",
        "[CV] C=10.0, gamma=100.0 .............................................\n",
        "[CV] .................... C=10.0, gamma=100.0, score=0.107623 -   0.2s"
       ]
      },
      {
       "output_type": "stream",
       "stream": "stdout",
       "text": [
        "\n",
        "[CV] C=100.0, gamma=0.001 ............................................\n",
        "[CV] ................... C=100.0, gamma=0.001, score=0.982301 -   0.1s"
       ]
      },
      {
       "output_type": "stream",
       "stream": "stdout",
       "text": [
        "\n",
        "[CV] C=100.0, gamma=0.001 ............................................\n",
        "[CV] ................... C=100.0, gamma=0.001, score=1.000000 -   0.1s"
       ]
      },
      {
       "output_type": "stream",
       "stream": "stdout",
       "text": [
        "\n",
        "[CV] C=100.0, gamma=0.001 ............................................\n",
        "[CV] ................... C=100.0, gamma=0.001, score=0.993274 -   0.1s"
       ]
      },
      {
       "output_type": "stream",
       "stream": "stdout",
       "text": [
        "\n",
        "[CV] C=100.0, gamma=0.01 .............................................\n",
        "[CV] .................... C=100.0, gamma=0.01, score=0.780973 -   0.2s"
       ]
      },
      {
       "output_type": "stream",
       "stream": "stdout",
       "text": [
        "\n",
        "[CV] C=100.0, gamma=0.01 .............................................\n",
        "[CV] .................... C=100.0, gamma=0.01, score=0.850780 -   0.2s"
       ]
      },
      {
       "output_type": "stream",
       "stream": "stdout",
       "text": [
        "\n",
        "[CV] C=100.0, gamma=0.01 .............................................\n",
        "[CV] .................... C=100.0, gamma=0.01, score=0.856502 -   0.2s"
       ]
      },
      {
       "output_type": "stream",
       "stream": "stdout",
       "text": [
        "\n",
        "[CV] C=100.0, gamma=0.1 ..............................................\n",
        "[CV] ..................... C=100.0, gamma=0.1, score=0.106195 -   0.2s"
       ]
      },
      {
       "output_type": "stream",
       "stream": "stdout",
       "text": [
        "\n",
        "[CV] C=100.0, gamma=0.1 ..............................................\n",
        "[CV] ..................... C=100.0, gamma=0.1, score=0.106904 -   0.2s"
       ]
      },
      {
       "output_type": "stream",
       "stream": "stdout",
       "text": [
        "\n",
        "[CV] C=100.0, gamma=0.1 ..............................................\n",
        "[CV] ..................... C=100.0, gamma=0.1, score=0.107623 -   0.2s"
       ]
      },
      {
       "output_type": "stream",
       "stream": "stdout",
       "text": [
        "\n",
        "[CV] C=100.0, gamma=1.0 ..............................................\n",
        "[CV] ..................... C=100.0, gamma=1.0, score=0.106195 -   0.2s"
       ]
      },
      {
       "output_type": "stream",
       "stream": "stdout",
       "text": [
        "\n",
        "[CV] C=100.0, gamma=1.0 ..............................................\n",
        "[CV] ..................... C=100.0, gamma=1.0, score=0.106904 -   0.2s"
       ]
      },
      {
       "output_type": "stream",
       "stream": "stdout",
       "text": [
        "\n",
        "[CV] C=100.0, gamma=1.0 ..............................................\n",
        "[CV] ..................... C=100.0, gamma=1.0, score=0.107623 -   0.2s"
       ]
      },
      {
       "output_type": "stream",
       "stream": "stdout",
       "text": [
        "\n",
        "[CV] C=100.0, gamma=10.0 .............................................\n",
        "[CV] .................... C=100.0, gamma=10.0, score=0.106195 -   0.2s"
       ]
      },
      {
       "output_type": "stream",
       "stream": "stdout",
       "text": [
        "\n",
        "[CV] C=100.0, gamma=10.0 .............................................\n",
        "[CV] .................... C=100.0, gamma=10.0, score=0.106904 -   0.2s"
       ]
      },
      {
       "output_type": "stream",
       "stream": "stdout",
       "text": [
        "\n",
        "[CV] C=100.0, gamma=10.0 .............................................\n",
        "[CV] .................... C=100.0, gamma=10.0, score=0.107623 -   0.2s"
       ]
      },
      {
       "output_type": "stream",
       "stream": "stdout",
       "text": [
        "\n",
        "[CV] C=100.0, gamma=100.0 ............................................\n",
        "[CV] ................... C=100.0, gamma=100.0, score=0.106195 -   0.2s"
       ]
      },
      {
       "output_type": "stream",
       "stream": "stdout",
       "text": [
        "\n",
        "[CV] C=100.0, gamma=100.0 ............................................\n",
        "[CV] ................... C=100.0, gamma=100.0, score=0.106904 -   0.2s"
       ]
      },
      {
       "output_type": "stream",
       "stream": "stdout",
       "text": [
        "\n",
        "[CV] C=100.0, gamma=100.0 ............................................\n",
        "[CV] ................... C=100.0, gamma=100.0, score=0.107623 -   0.2s"
       ]
      },
      {
       "output_type": "stream",
       "stream": "stdout",
       "text": [
        "\n"
       ]
      },
      {
       "output_type": "stream",
       "stream": "stderr",
       "text": [
        "[Parallel(n_jobs=1)]: Done 108 out of 108 | elapsed:   19.1s finished\n"
       ]
      },
      {
       "metadata": {},
       "output_type": "pyout",
       "prompt_number": 6,
       "text": [
        "GridSearchCV(cv=None, error_score='raise',\n",
        "       estimator=SVC(C=1.0, cache_size=200, class_weight=None, coef0=0.0, degree=3, gamma=0.0,\n",
        "  kernel='rbf', max_iter=-1, probability=False, random_state=None,\n",
        "  shrinking=True, tol=0.001, verbose=False),\n",
        "       fit_params={}, iid=True, loss_func=None, n_jobs=1,\n",
        "       param_grid={'C': array([   0.001,    0.01 ,    0.1  ,    1.   ,   10.   ,  100.   ]), 'gamma': array([   0.001,    0.01 ,    0.1  ,    1.   ,   10.   ,  100.   ])},\n",
        "       pre_dispatch='2*n_jobs', refit=True, score_func=None, scoring=None,\n",
        "       verbose=3)"
       ]
      }
     ],
     "prompt_number": 6
    },
    {
     "cell_type": "code",
     "collapsed": false,
     "input": [
      "# We extract just the scores\n",
      "%matplotlib inline\n",
      "import matplotlib.pyplot as plt\n",
      "\n",
      "scores = [x[1] for x in grid_search.grid_scores_]\n",
      "scores = np.array(scores).reshape(6, 6)\n",
      "\n",
      "plt.matshow(scores)\n",
      "plt.xlabel('gamma')\n",
      "plt.ylabel('C')\n",
      "plt.colorbar()\n",
      "plt.xticks(np.arange(6), param_grid['gamma'])\n",
      "plt.yticks(np.arange(6), param_grid['C'])"
     ],
     "language": "python",
     "metadata": {},
     "outputs": [
      {
       "metadata": {},
       "output_type": "pyout",
       "prompt_number": 7,
       "text": [
        "([<matplotlib.axis.YTick at 0x7f3a86a6c090>,\n",
        "  <matplotlib.axis.YTick at 0x7f3a8695a550>,\n",
        "  <matplotlib.axis.YTick at 0x7f3a86844ad0>,\n",
        "  <matplotlib.axis.YTick at 0x7f3a86850050>,\n",
        "  <matplotlib.axis.YTick at 0x7f3a868505d0>,\n",
        "  <matplotlib.axis.YTick at 0x7f3a86850d10>],\n",
        " <a list of 6 Text yticklabel objects>)"
       ]
      },
      {
       "metadata": {},
       "output_type": "display_data",
       "png": "[encoded data removed]",
       "text": [
        "<matplotlib.figure.Figure at 0x7f3a9cb2d710>"
       ]
      }
     ],
     "prompt_number": 7
    },
    {
     "cell_type": "code",
     "collapsed": false,
     "input": [
      "grid_search.best_params_"
     ],
     "language": "python",
     "metadata": {},
     "outputs": [
      {
       "metadata": {},
       "output_type": "pyout",
       "prompt_number": 8,
       "text": [
        "{'C': 10.0, 'gamma': 0.001}"
       ]
      }
     ],
     "prompt_number": 8
    },
    {
     "cell_type": "code",
     "collapsed": false,
     "input": [
      "grid_search.predict(X_test)"
     ],
     "language": "python",
     "metadata": {},
     "outputs": [
      {
       "metadata": {},
       "output_type": "pyout",
       "prompt_number": 9,
       "text": [
        "array([2, 2, 5, 8, 2, 5, 5, 9, 9, 4, 0, 6, 1, 0, 0, 9, 7, 1, 3, 6, 5, 6, 4,\n",
        "       4, 0, 0, 8, 3, 9, 1, 2, 6, 1, 6, 2, 0, 1, 1, 4, 1, 2, 3, 8, 2, 4, 1,\n",
        "       1, 4, 7, 2, 6, 4, 3, 8, 5, 3, 7, 9, 5, 0, 5, 8, 5, 6, 9, 0, 4, 9, 8,\n",
        "       7, 0, 1, 5, 0, 7, 8, 6, 8, 6, 5, 1, 6, 2, 5, 3, 4, 2, 0, 0, 0, 0, 6,\n",
        "       0, 9, 4, 7, 6, 0, 9, 9, 5, 5, 4, 9, 8, 8, 0, 1, 4, 9, 4, 1, 8, 1, 5,\n",
        "       5, 5, 6, 1, 4, 8, 9, 9, 0, 0, 3, 5, 1, 9, 4, 4, 1, 7, 7, 1, 2, 1, 9,\n",
        "       7, 0, 3, 8, 4, 7, 8, 7, 0, 7, 3, 7, 1, 3, 5, 2, 1, 2, 4, 8, 6, 8, 5,\n",
        "       5, 5, 6, 9, 9, 6, 4, 8, 7, 7, 6, 6, 0, 6, 8, 5, 1, 0, 4, 2, 0, 1, 1,\n",
        "       7, 8, 2, 0, 6, 7, 7, 6, 3, 1, 7, 7, 1, 9, 6, 3, 0, 9, 2, 9, 5, 4, 3,\n",
        "       9, 3, 8, 7, 9, 8, 1, 2, 8, 8, 5, 2, 0, 6, 6, 1, 6, 1, 8, 1, 4, 9, 7,\n",
        "       5, 5, 9, 8, 6, 8, 9, 3, 3, 6, 4, 3, 1, 1, 5, 3, 7, 2, 5, 1, 8, 1, 6,\n",
        "       1, 5, 8, 9, 4, 6, 5, 7, 1, 5, 9, 1, 0, 1, 1, 4, 5, 3, 7, 1, 8, 7, 6,\n",
        "       2, 3, 8, 2, 7, 6, 9, 9, 4, 5, 4, 4, 5, 8, 7, 6, 8, 3, 2, 3, 4, 5, 0,\n",
        "       2, 2, 6, 3, 7, 1, 0, 4, 2, 8, 6, 0, 0, 3, 8, 3, 6, 9, 6, 8, 7, 1, 7,\n",
        "       9, 3, 8, 9, 4, 8, 6, 0, 9, 0, 9, 3, 5, 6, 9, 3, 4, 0, 6, 6, 3, 1, 9,\n",
        "       5, 6, 7, 1, 4, 2, 6, 6, 0, 9, 8, 2, 2, 7, 9, 4, 2, 5, 2, 0, 8, 1, 0,\n",
        "       5, 6, 4, 8, 6, 3, 8, 2, 2, 7, 6, 1, 3, 7, 6, 7, 4, 7, 3, 3, 7, 0, 2,\n",
        "       1, 5, 2, 9, 0, 2, 7, 8, 0, 2, 9, 9, 7, 3, 6, 5, 8, 9, 1, 0, 3, 5, 3,\n",
        "       9, 7, 3, 1, 0, 1, 3, 2, 6, 6, 7, 0, 9, 7, 4, 3, 7, 8, 1, 5, 7, 6, 6,\n",
        "       5, 7, 8, 5, 2, 2, 3, 9, 1, 1, 5, 1, 2])"
       ]
      }
     ],
     "prompt_number": 9
    },
    {
     "cell_type": "code",
     "collapsed": false,
     "input": [
      "grid_search.score(X_test, y_test)"
     ],
     "language": "python",
     "metadata": {},
     "outputs": [
      {
       "metadata": {},
       "output_type": "pyout",
       "prompt_number": 10,
       "text": [
        "0.98222222222222222"
       ]
      }
     ],
     "prompt_number": 10
    },
    {
     "cell_type": "markdown",
     "metadata": {},
     "source": [
      "Preprocessing and Pipelines\n",
      "============================="
     ]
    },
    {
     "cell_type": "code",
     "collapsed": false,
     "input": [
      "from sklearn.preprocessing import StandardScaler"
     ],
     "language": "python",
     "metadata": {},
     "outputs": [],
     "prompt_number": 12
    },
    {
     "cell_type": "markdown",
     "metadata": {},
     "source": [
      "Same interface as always."
     ]
    },
    {
     "cell_type": "code",
     "collapsed": false,
     "input": [
      "scaler = StandardScaler()"
     ],
     "language": "python",
     "metadata": {},
     "outputs": [],
     "prompt_number": 13
    },
    {
     "cell_type": "code",
     "collapsed": false,
     "input": [
      "scaler.fit(X_train)"
     ],
     "language": "python",
     "metadata": {},
     "outputs": [
      {
       "metadata": {},
       "output_type": "pyout",
       "prompt_number": 14,
       "text": [
        "StandardScaler(copy=True, with_mean=True, with_std=True)"
       ]
      }
     ],
     "prompt_number": 14
    },
    {
     "cell_type": "code",
     "collapsed": false,
     "input": [
      "X_train_scaled = scaler.transform(X_train)"
     ],
     "language": "python",
     "metadata": {},
     "outputs": [],
     "prompt_number": 15
    },
    {
     "cell_type": "code",
     "collapsed": false,
     "input": [
      "X_train_scaled.mean(axis=0)"
     ],
     "language": "python",
     "metadata": {},
     "outputs": [
      {
       "metadata": {},
       "output_type": "pyout",
       "prompt_number": 16,
       "text": [
        "array([ 0., -0., -0., -0., -0.,  0., -0.,  0.,  0.,  0., -0.,  0.,  0.,\n",
        "       -0., -0., -0., -0., -0.,  0.,  0.,  0., -0., -0.,  0., -0., -0.,\n",
        "        0.,  0., -0., -0.,  0., -0.,  0.,  0.,  0.,  0.,  0.,  0., -0.,\n",
        "        0.,  0.,  0., -0., -0., -0., -0.,  0., -0., -0.,  0.,  0.,  0.,\n",
        "        0., -0., -0.,  0., -0.,  0., -0., -0., -0.,  0.,  0., -0.])"
       ]
      }
     ],
     "prompt_number": 16
    },
    {
     "cell_type": "code",
     "collapsed": false,
     "input": [
      "X_train_scaled.std(axis=0)"
     ],
     "language": "python",
     "metadata": {},
     "outputs": [
      {
       "metadata": {},
       "output_type": "pyout",
       "prompt_number": 17,
       "text": [
        "array([ 0.,  1.,  1.,  1.,  1.,  1.,  1.,  1.,  1.,  1.,  1.,  1.,  1.,\n",
        "        1.,  1.,  1.,  1.,  1.,  1.,  1.,  1.,  1.,  1.,  1.,  1.,  1.,\n",
        "        1.,  1.,  1.,  1.,  1.,  1.,  0.,  1.,  1.,  1.,  1.,  1.,  1.,\n",
        "        0.,  1.,  1.,  1.,  1.,  1.,  1.,  1.,  1.,  1.,  1.,  1.,  1.,\n",
        "        1.,  1.,  1.,  1.,  1.,  1.,  1.,  1.,  1.,  1.,  1.,  1.])"
       ]
      }
     ],
     "prompt_number": 17
    },
    {
     "cell_type": "markdown",
     "metadata": {},
     "source": [
      "For cross-validation, we need to estimate mean and standard deviation separately for each fold.\n",
      "To do that, we build a pipeline."
     ]
    },
    {
     "cell_type": "code",
     "collapsed": false,
     "input": [
      "from sklearn.pipeline import Pipeline"
     ],
     "language": "python",
     "metadata": {},
     "outputs": [],
     "prompt_number": 18
    },
    {
     "cell_type": "code",
     "collapsed": false,
     "input": [
      "pipeline = Pipeline([(\"scaler\", StandardScaler()), (\"svm\", SVC())])"
     ],
     "language": "python",
     "metadata": {},
     "outputs": [],
     "prompt_number": 19
    },
    {
     "cell_type": "code",
     "collapsed": false,
     "input": [
      "pipeline.fit(X_train, y_train)"
     ],
     "language": "python",
     "metadata": {},
     "outputs": []
    },
    {
     "cell_type": "code",
     "collapsed": false,
     "input": [
      "pipeline.predict(X_train)"
     ],
     "language": "python",
     "metadata": {},
     "outputs": []
    },
    {
     "cell_type": "markdown",
     "metadata": {},
     "source": [
      "Cross-validation with a pipeline\n",
      "---------------------------------"
     ]
    },
    {
     "cell_type": "code",
     "collapsed": false,
     "input": [
      "from sklearn.cross_validation import cross_val_score\n",
      "cross_val_score(pipeline, X_train, y_train)"
     ],
     "language": "python",
     "metadata": {},
     "outputs": []
    },
    {
     "cell_type": "markdown",
     "metadata": {},
     "source": [
      "So, yeah, don't forget the preprocessing."
     ]
    },
    {
     "cell_type": "code",
     "collapsed": false,
     "input": [
      "param_grid_pipeline = {'svm__C': 10. ** np.arange(-3, 3), 'svm__gamma' : 10. ** np.arange(-3, 3)}\n",
      "\n",
      "grid_pipeline = GridSearchCV(pipeline, param_grid=param_grid_pipeline, verbose=3)"
     ],
     "language": "python",
     "metadata": {},
     "outputs": []
    },
    {
     "cell_type": "code",
     "collapsed": false,
     "input": [
      "grid_pipeline.fit(X_train, y_train)"
     ],
     "language": "python",
     "metadata": {},
     "outputs": []
    },
    {
     "cell_type": "code",
     "collapsed": false,
     "input": [
      "# We extract just the scores\n",
      "scores = [x[1] for x in grid_pipeline.grid_scores_]\n",
      "scores = np.array(scores).reshape(6, 6)\n",
      "\n",
      "plt.matshow(scores)\n",
      "plt.xlabel('gamma')\n",
      "plt.ylabel('C')\n",
      "plt.colorbar()\n",
      "plt.xticks(np.arange(6), param_grid['gamma'])\n",
      "plt.yticks(np.arange(6), param_grid['C'])"
     ],
     "language": "python",
     "metadata": {},
     "outputs": []
    },
    {
     "cell_type": "code",
     "collapsed": false,
     "input": [
      "grid_pipeline.score(X_test, y_test)"
     ],
     "language": "python",
     "metadata": {},
     "outputs": []
    }
   ],
   "metadata": {}
  }
 ]
}