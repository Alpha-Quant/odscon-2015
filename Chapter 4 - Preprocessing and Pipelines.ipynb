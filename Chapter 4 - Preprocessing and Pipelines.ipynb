{
 "metadata": {
  "name": ""
 },
 "nbformat": 3,
 "nbformat_minor": 0,
 "worksheets": [
  {
   "cells": [
    {
     "cell_type": "markdown",
     "metadata": {},
     "source": [
      "Model Selection\n",
      "================="
     ]
    },
    {
     "cell_type": "markdown",
     "metadata": {},
     "source": [
      "Grid-Search with build-in cross validation"
     ]
    },
    {
     "cell_type": "code",
     "collapsed": false,
     "input": [
      "from sklearn.grid_search import GridSearchCV"
     ],
     "language": "python",
     "metadata": {},
     "outputs": [],
     "prompt_number": 1
    },
    {
     "cell_type": "markdown",
     "metadata": {},
     "source": [
      "Define parameter grid:"
     ]
    },
    {
     "cell_type": "code",
     "collapsed": false,
     "input": [
      "import numpy as np\n",
      "from sklearn.svm import SVC\n",
      "\n",
      "param_grid = {'C': 10. ** np.arange(-3, 3), 'gamma' : 10. ** np.arange(-3, 3)}\n",
      "\n",
      "np.set_printoptions(suppress=True)\n",
      "print(param_grid)"
     ],
     "language": "python",
     "metadata": {},
     "outputs": [
      {
       "output_type": "stream",
       "stream": "stdout",
       "text": [
        "{'C': array([   0.001,    0.01 ,    0.1  ,    1.   ,   10.   ,  100.   ]), 'gamma': array([   0.001,    0.01 ,    0.1  ,    1.   ,   10.   ,  100.   ])}\n"
       ]
      }
     ],
     "prompt_number": 2
    },
    {
     "cell_type": "code",
     "collapsed": false,
     "input": [
      "grid_search = GridSearchCV(SVC(), param_grid, verbose=3)"
     ],
     "language": "python",
     "metadata": {},
     "outputs": [],
     "prompt_number": 3
    },
    {
     "cell_type": "markdown",
     "metadata": {},
     "source": [
      "A GridSearchCV object behaves just like a normal classifier."
     ]
    },
    {
     "cell_type": "code",
     "collapsed": false,
     "input": [
      "from sklearn.datasets import load_digits\n",
      "from sklearn.cross_validation import train_test_split\n",
      "digits = load_digits()\n",
      "X_train, X_test, y_train, y_test = train_test_split(digits.data, digits.target)"
     ],
     "language": "python",
     "metadata": {},
     "outputs": [],
     "prompt_number": 5
    },
    {
     "cell_type": "code",
     "collapsed": false,
     "input": [
      "grid_search.fit(X_train, y_train)"
     ],
     "language": "python",
     "metadata": {},
     "outputs": [
      {
       "output_type": "stream",
       "stream": "stdout",
       "text": [
        "Fitting 3 folds for each of 36 candidates, totalling 108 fits\n",
        "[CV] C=0.001, gamma=0.001 ............................................\n",
        "[CV] ................... C=0.001, gamma=0.001, score=0.108407 -   0.2s"
       ]
      },
      {
       "output_type": "stream",
       "stream": "stdout",
       "text": [
        "\n",
        "[CV] C=0.001, gamma=0.001 ............................................\n",
        "[CV] ................... C=0.001, gamma=0.001, score=0.108647 -   0.2s"
       ]
      },
      {
       "output_type": "stream",
       "stream": "stdout",
       "text": [
        "\n",
        "[CV] C=0.001, gamma=0.001 ............................................\n",
        "[CV] ................... C=0.001, gamma=0.001, score=0.110360 -   0.2s"
       ]
      },
      {
       "output_type": "stream",
       "stream": "stdout",
       "text": [
        "\n",
        "[CV] C=0.001, gamma=0.01 .............................................\n",
        "[CV] .................... C=0.001, gamma=0.01, score=0.108407 -   0.2s"
       ]
      },
      {
       "output_type": "stream",
       "stream": "stdout",
       "text": [
        "\n",
        "[CV] C=0.001, gamma=0.01 .............................................\n",
        "[CV] .................... C=0.001, gamma=0.01, score=0.108647 -   0.2s"
       ]
      },
      {
       "output_type": "stream",
       "stream": "stdout",
       "text": [
        "\n",
        "[CV] C=0.001, gamma=0.01 .............................................\n",
        "[CV] .................... C=0.001, gamma=0.01, score=0.110360 -   0.2s"
       ]
      },
      {
       "output_type": "stream",
       "stream": "stdout",
       "text": [
        "\n",
        "[CV] C=0.001, gamma=0.1 ..............................................\n",
        "[CV] ..................... C=0.001, gamma=0.1, score=0.108407 -   0.2s"
       ]
      },
      {
       "output_type": "stream",
       "stream": "stdout",
       "text": [
        "\n",
        "[CV] C=0.001, gamma=0.1 ..............................................\n",
        "[CV] ..................... C=0.001, gamma=0.1, score=0.108647 -   0.2s"
       ]
      },
      {
       "output_type": "stream",
       "stream": "stdout",
       "text": [
        "\n",
        "[CV] C=0.001, gamma=0.1 ..............................................\n",
        "[CV] ..................... C=0.001, gamma=0.1, score=0.110360 -   0.2s"
       ]
      },
      {
       "output_type": "stream",
       "stream": "stdout",
       "text": [
        "\n",
        "[CV] C=0.001, gamma=1.0 ..............................................\n",
        "[CV] ..................... C=0.001, gamma=1.0, score=0.108407 -   0.2s"
       ]
      },
      {
       "output_type": "stream",
       "stream": "stdout",
       "text": [
        "\n",
        "[CV] C=0.001, gamma=1.0 ..............................................\n",
        "[CV] ..................... C=0.001, gamma=1.0, score=0.108647 -   0.2s"
       ]
      },
      {
       "output_type": "stream",
       "stream": "stdout",
       "text": [
        "\n",
        "[CV] C=0.001, gamma=1.0 ..............................................\n",
        "[CV] ..................... C=0.001, gamma=1.0, score=0.110360 -   0.2s"
       ]
      },
      {
       "output_type": "stream",
       "stream": "stdout",
       "text": [
        "\n",
        "[CV] C=0.001, gamma=10.0 .............................................\n",
        "[CV] .................... C=0.001, gamma=10.0, score=0.108407 -   0.2s"
       ]
      },
      {
       "output_type": "stream",
       "stream": "stdout",
       "text": [
        "\n",
        "[CV] C=0.001, gamma=10.0 .............................................\n",
        "[CV] .................... C=0.001, gamma=10.0, score=0.108647 -   0.2s"
       ]
      },
      {
       "output_type": "stream",
       "stream": "stdout",
       "text": [
        "\n",
        "[CV] C=0.001, gamma=10.0 .............................................\n",
        "[CV] .................... C=0.001, gamma=10.0, score=0.110360 -   0.2s"
       ]
      },
      {
       "output_type": "stream",
       "stream": "stdout",
       "text": [
        "\n",
        "[CV] C=0.001, gamma=100.0 ............................................\n",
        "[CV] ................... C=0.001, gamma=100.0, score=0.108407 -   0.2s"
       ]
      },
      {
       "output_type": "stream",
       "stream": "stdout",
       "text": [
        "\n",
        "[CV] C=0.001, gamma=100.0 ............................................\n",
        "[CV] ................... C=0.001, gamma=100.0, score=0.108647 -   0.2s"
       ]
      },
      {
       "output_type": "stream",
       "stream": "stdout",
       "text": [
        "\n",
        "[CV] C=0.001, gamma=100.0 ............................................\n",
        "[CV] ................... C=0.001, gamma=100.0, score=0.110360 -   0.2s"
       ]
      },
      {
       "output_type": "stream",
       "stream": "stdout",
       "text": [
        "\n",
        "[CV] C=0.01, gamma=0.001 .............................................\n",
        "[CV] .................... C=0.01, gamma=0.001, score=0.108407 -   0.2s"
       ]
      },
      {
       "output_type": "stream",
       "stream": "stdout",
       "text": [
        "\n",
        "[CV] C=0.01, gamma=0.001 .............................................\n",
        "[CV] .................... C=0.01, gamma=0.001, score=0.108647 -   0.2s"
       ]
      },
      {
       "output_type": "stream",
       "stream": "stdout",
       "text": [
        "\n",
        "[CV] C=0.01, gamma=0.001 .............................................\n",
        "[CV] .................... C=0.01, gamma=0.001, score=0.110360 -   0.2s"
       ]
      },
      {
       "output_type": "stream",
       "stream": "stdout",
       "text": [
        "\n",
        "[CV] C=0.01, gamma=0.01 ..............................................\n",
        "[CV] ..................... C=0.01, gamma=0.01, score=0.108407 -   0.2s"
       ]
      },
      {
       "output_type": "stream",
       "stream": "stdout",
       "text": [
        "\n",
        "[CV] C=0.01, gamma=0.01 ..............................................\n",
        "[CV] ..................... C=0.01, gamma=0.01, score=0.108647 -   0.2s"
       ]
      },
      {
       "output_type": "stream",
       "stream": "stdout",
       "text": [
        "\n",
        "[CV] C=0.01, gamma=0.01 ..............................................\n",
        "[CV] ..................... C=0.01, gamma=0.01, score=0.110360 -   0.2s"
       ]
      },
      {
       "output_type": "stream",
       "stream": "stdout",
       "text": [
        "\n",
        "[CV] C=0.01, gamma=0.1 ...............................................\n",
        "[CV] ...................... C=0.01, gamma=0.1, score=0.108407 -   0.2s"
       ]
      },
      {
       "output_type": "stream",
       "stream": "stdout",
       "text": [
        "\n",
        "[CV] C=0.01, gamma=0.1 ...............................................\n",
        "[CV] ...................... C=0.01, gamma=0.1, score=0.108647 -   0.2s"
       ]
      },
      {
       "output_type": "stream",
       "stream": "stdout",
       "text": [
        "\n",
        "[CV] C=0.01, gamma=0.1 ...............................................\n",
        "[CV] ...................... C=0.01, gamma=0.1, score=0.110360 -   0.2s"
       ]
      },
      {
       "output_type": "stream",
       "stream": "stdout",
       "text": [
        "\n",
        "[CV] C=0.01, gamma=1.0 ...............................................\n",
        "[CV] ...................... C=0.01, gamma=1.0, score=0.108407 -   0.2s"
       ]
      },
      {
       "output_type": "stream",
       "stream": "stdout",
       "text": [
        "\n",
        "[CV] C=0.01, gamma=1.0 ...............................................\n",
        "[CV] ...................... C=0.01, gamma=1.0, score=0.108647 -   0.2s"
       ]
      },
      {
       "output_type": "stream",
       "stream": "stdout",
       "text": [
        "\n",
        "[CV] C=0.01, gamma=1.0 ...............................................\n",
        "[CV] ...................... C=0.01, gamma=1.0, score=0.110360 -   0.2s"
       ]
      },
      {
       "output_type": "stream",
       "stream": "stdout",
       "text": [
        "\n",
        "[CV] C=0.01, gamma=10.0 ..............................................\n",
        "[CV] ..................... C=0.01, gamma=10.0, score=0.108407 -   0.2s"
       ]
      },
      {
       "output_type": "stream",
       "stream": "stdout",
       "text": [
        "\n",
        "[CV] C=0.01, gamma=10.0 ..............................................\n",
        "[CV] ..................... C=0.01, gamma=10.0, score=0.108647 -   0.2s"
       ]
      },
      {
       "output_type": "stream",
       "stream": "stderr",
       "text": [
        "[Parallel(n_jobs=1)]: Done   1 jobs       | elapsed:    0.2s\n",
        "[Parallel(n_jobs=1)]: Done  32 jobs       | elapsed:    5.6s\n"
       ]
      },
      {
       "output_type": "stream",
       "stream": "stdout",
       "text": [
        "\n",
        "[CV] C=0.01, gamma=10.0 ..............................................\n",
        "[CV] ..................... C=0.01, gamma=10.0, score=0.110360 -   0.2s"
       ]
      },
      {
       "output_type": "stream",
       "stream": "stdout",
       "text": [
        "\n",
        "[CV] C=0.01, gamma=100.0 .............................................\n",
        "[CV] .................... C=0.01, gamma=100.0, score=0.108407 -   0.2s"
       ]
      },
      {
       "output_type": "stream",
       "stream": "stdout",
       "text": [
        "\n",
        "[CV] C=0.01, gamma=100.0 .............................................\n",
        "[CV] .................... C=0.01, gamma=100.0, score=0.108647 -   0.2s"
       ]
      },
      {
       "output_type": "stream",
       "stream": "stdout",
       "text": [
        "\n",
        "[CV] C=0.01, gamma=100.0 .............................................\n",
        "[CV] .................... C=0.01, gamma=100.0, score=0.110360 -   0.2s"
       ]
      },
      {
       "output_type": "stream",
       "stream": "stdout",
       "text": [
        "\n",
        "[CV] C=0.1, gamma=0.001 ..............................................\n",
        "[CV] ..................... C=0.1, gamma=0.001, score=0.931416 -   0.1s"
       ]
      },
      {
       "output_type": "stream",
       "stream": "stdout",
       "text": [
        "\n",
        "[CV] C=0.1, gamma=0.001 ..............................................\n",
        "[CV] ..................... C=0.1, gamma=0.001, score=0.953437 -   0.1s"
       ]
      },
      {
       "output_type": "stream",
       "stream": "stdout",
       "text": [
        "\n",
        "[CV] C=0.1, gamma=0.001 ..............................................\n",
        "[CV] ..................... C=0.1, gamma=0.001, score=0.970721 -   0.1s"
       ]
      },
      {
       "output_type": "stream",
       "stream": "stdout",
       "text": [
        "\n",
        "[CV] C=0.1, gamma=0.01 ...............................................\n",
        "[CV] ...................... C=0.1, gamma=0.01, score=0.108407 -   0.2s"
       ]
      },
      {
       "output_type": "stream",
       "stream": "stdout",
       "text": [
        "\n",
        "[CV] C=0.1, gamma=0.01 ...............................................\n",
        "[CV] ...................... C=0.1, gamma=0.01, score=0.108647 -   0.2s"
       ]
      },
      {
       "output_type": "stream",
       "stream": "stdout",
       "text": [
        "\n",
        "[CV] C=0.1, gamma=0.01 ...............................................\n",
        "[CV] ...................... C=0.1, gamma=0.01, score=0.110360 -   0.2s"
       ]
      },
      {
       "output_type": "stream",
       "stream": "stdout",
       "text": [
        "\n",
        "[CV] C=0.1, gamma=0.1 ................................................\n",
        "[CV] ....................... C=0.1, gamma=0.1, score=0.108407 -   0.2s"
       ]
      },
      {
       "output_type": "stream",
       "stream": "stdout",
       "text": [
        "\n",
        "[CV] C=0.1, gamma=0.1 ................................................\n",
        "[CV] ....................... C=0.1, gamma=0.1, score=0.108647 -   0.2s"
       ]
      },
      {
       "output_type": "stream",
       "stream": "stdout",
       "text": [
        "\n",
        "[CV] C=0.1, gamma=0.1 ................................................\n",
        "[CV] ....................... C=0.1, gamma=0.1, score=0.110360 -   0.2s"
       ]
      },
      {
       "output_type": "stream",
       "stream": "stdout",
       "text": [
        "\n",
        "[CV] C=0.1, gamma=1.0 ................................................\n",
        "[CV] ....................... C=0.1, gamma=1.0, score=0.108407 -   0.2s"
       ]
      },
      {
       "output_type": "stream",
       "stream": "stdout",
       "text": [
        "\n",
        "[CV] C=0.1, gamma=1.0 ................................................\n",
        "[CV] ....................... C=0.1, gamma=1.0, score=0.108647 -   0.2s"
       ]
      },
      {
       "output_type": "stream",
       "stream": "stdout",
       "text": [
        "\n",
        "[CV] C=0.1, gamma=1.0 ................................................\n",
        "[CV] ....................... C=0.1, gamma=1.0, score=0.110360 -   0.2s"
       ]
      },
      {
       "output_type": "stream",
       "stream": "stdout",
       "text": [
        "\n",
        "[CV] C=0.1, gamma=10.0 ...............................................\n",
        "[CV] ...................... C=0.1, gamma=10.0, score=0.108407 -   0.2s"
       ]
      },
      {
       "output_type": "stream",
       "stream": "stdout",
       "text": [
        "\n",
        "[CV] C=0.1, gamma=10.0 ...............................................\n",
        "[CV] ...................... C=0.1, gamma=10.0, score=0.108647 -   0.2s"
       ]
      },
      {
       "output_type": "stream",
       "stream": "stdout",
       "text": [
        "\n",
        "[CV] C=0.1, gamma=10.0 ...............................................\n",
        "[CV] ...................... C=0.1, gamma=10.0, score=0.110360 -   0.2s"
       ]
      },
      {
       "output_type": "stream",
       "stream": "stdout",
       "text": [
        "\n",
        "[CV] C=0.1, gamma=100.0 ..............................................\n",
        "[CV] ..................... C=0.1, gamma=100.0, score=0.108407 -   0.2s"
       ]
      },
      {
       "output_type": "stream",
       "stream": "stdout",
       "text": [
        "\n",
        "[CV] C=0.1, gamma=100.0 ..............................................\n",
        "[CV] ..................... C=0.1, gamma=100.0, score=0.108647 -   0.2s"
       ]
      },
      {
       "output_type": "stream",
       "stream": "stdout",
       "text": [
        "\n",
        "[CV] C=0.1, gamma=100.0 ..............................................\n",
        "[CV] ..................... C=0.1, gamma=100.0, score=0.110360 -   0.2s"
       ]
      },
      {
       "output_type": "stream",
       "stream": "stdout",
       "text": [
        "\n",
        "[CV] C=1.0, gamma=0.001 ..............................................\n",
        "[CV] ..................... C=1.0, gamma=0.001, score=0.982301 -   0.1s"
       ]
      },
      {
       "output_type": "stream",
       "stream": "stdout",
       "text": [
        "\n",
        "[CV] C=1.0, gamma=0.001 ..............................................\n",
        "[CV] ..................... C=1.0, gamma=0.001, score=0.977827 -   0.1s"
       ]
      },
      {
       "output_type": "stream",
       "stream": "stdout",
       "text": [
        "\n",
        "[CV] C=1.0, gamma=0.001 ..............................................\n",
        "[CV] ..................... C=1.0, gamma=0.001, score=0.990991 -   0.1s"
       ]
      },
      {
       "output_type": "stream",
       "stream": "stdout",
       "text": [
        "\n",
        "[CV] C=1.0, gamma=0.01 ...............................................\n",
        "[CV] ...................... C=1.0, gamma=0.01, score=0.710177 -   0.2s"
       ]
      },
      {
       "output_type": "stream",
       "stream": "stdout",
       "text": [
        "\n",
        "[CV] C=1.0, gamma=0.01 ...............................................\n",
        "[CV] ...................... C=1.0, gamma=0.01, score=0.758315 -   0.2s"
       ]
      },
      {
       "output_type": "stream",
       "stream": "stdout",
       "text": [
        "\n",
        "[CV] C=1.0, gamma=0.01 ...............................................\n",
        "[CV] ...................... C=1.0, gamma=0.01, score=0.684685 -   0.2s"
       ]
      },
      {
       "output_type": "stream",
       "stream": "stdout",
       "text": [
        "\n",
        "[CV] C=1.0, gamma=0.1 ................................................\n",
        "[CV] ....................... C=1.0, gamma=0.1, score=0.108407 -   0.2s"
       ]
      },
      {
       "output_type": "stream",
       "stream": "stdout",
       "text": [
        "\n",
        "[CV] C=1.0, gamma=0.1 ................................................\n",
        "[CV] ....................... C=1.0, gamma=0.1, score=0.108647 -   0.2s"
       ]
      },
      {
       "output_type": "stream",
       "stream": "stdout",
       "text": [
        "\n",
        "[CV] C=1.0, gamma=0.1 ................................................\n",
        "[CV] ....................... C=1.0, gamma=0.1, score=0.110360 -   0.2s"
       ]
      },
      {
       "output_type": "stream",
       "stream": "stdout",
       "text": [
        "\n",
        "[CV] C=1.0, gamma=1.0 ................................................\n",
        "[CV] ....................... C=1.0, gamma=1.0, score=0.108407 -   0.2s"
       ]
      },
      {
       "output_type": "stream",
       "stream": "stdout",
       "text": [
        "\n",
        "[CV] C=1.0, gamma=1.0 ................................................\n",
        "[CV] ....................... C=1.0, gamma=1.0, score=0.108647 -   0.2s"
       ]
      },
      {
       "output_type": "stream",
       "stream": "stdout",
       "text": [
        "\n",
        "[CV] C=1.0, gamma=1.0 ................................................\n",
        "[CV] ....................... C=1.0, gamma=1.0, score=0.110360 -   0.2s"
       ]
      },
      {
       "output_type": "stream",
       "stream": "stdout",
       "text": [
        "\n",
        "[CV] C=1.0, gamma=10.0 ...............................................\n",
        "[CV] ...................... C=1.0, gamma=10.0, score=0.108407 -   0.2s"
       ]
      },
      {
       "output_type": "stream",
       "stream": "stdout",
       "text": [
        "\n",
        "[CV] C=1.0, gamma=10.0 ...............................................\n",
        "[CV] ...................... C=1.0, gamma=10.0, score=0.108647 -   0.2s"
       ]
      },
      {
       "output_type": "stream",
       "stream": "stdout",
       "text": [
        "\n",
        "[CV] C=1.0, gamma=10.0 ...............................................\n",
        "[CV] ...................... C=1.0, gamma=10.0, score=0.110360 -   0.2s"
       ]
      },
      {
       "output_type": "stream",
       "stream": "stdout",
       "text": [
        "\n",
        "[CV] C=1.0, gamma=100.0 ..............................................\n",
        "[CV] ..................... C=1.0, gamma=100.0, score=0.108407 -   0.2s"
       ]
      },
      {
       "output_type": "stream",
       "stream": "stdout",
       "text": [
        "\n",
        "[CV] C=1.0, gamma=100.0 ..............................................\n",
        "[CV] ..................... C=1.0, gamma=100.0, score=0.108647 -   0.2s"
       ]
      },
      {
       "output_type": "stream",
       "stream": "stdout",
       "text": [
        "\n",
        "[CV] C=1.0, gamma=100.0 ..............................................\n",
        "[CV] ..................... C=1.0, gamma=100.0, score=0.110360 -   0.2s"
       ]
      },
      {
       "output_type": "stream",
       "stream": "stdout",
       "text": [
        "\n",
        "[CV] C=10.0, gamma=0.001 .............................................\n",
        "[CV] .................... C=10.0, gamma=0.001, score=0.986726 -   0.1s"
       ]
      },
      {
       "output_type": "stream",
       "stream": "stdout",
       "text": [
        "\n",
        "[CV] C=10.0, gamma=0.001 .............................................\n",
        "[CV] .................... C=10.0, gamma=0.001, score=0.982262 -   0.1s"
       ]
      },
      {
       "output_type": "stream",
       "stream": "stdout",
       "text": [
        "\n",
        "[CV] C=10.0, gamma=0.001 .............................................\n",
        "[CV] .................... C=10.0, gamma=0.001, score=0.990991 -   0.1s"
       ]
      },
      {
       "output_type": "stream",
       "stream": "stdout",
       "text": [
        "\n",
        "[CV] C=10.0, gamma=0.01 ..............................................\n",
        "[CV] ..................... C=10.0, gamma=0.01, score=0.745575 -   0.2s"
       ]
      },
      {
       "output_type": "stream",
       "stream": "stdout",
       "text": [
        "\n",
        "[CV] C=10.0, gamma=0.01 ..............................................\n",
        "[CV] ..................... C=10.0, gamma=0.01, score=0.764967 -   0.2s"
       ]
      },
      {
       "output_type": "stream",
       "stream": "stdout",
       "text": [
        "\n",
        "[CV] C=10.0, gamma=0.01 ..............................................\n",
        "[CV] ..................... C=10.0, gamma=0.01, score=0.711712 -   0.2s"
       ]
      },
      {
       "output_type": "stream",
       "stream": "stdout",
       "text": [
        "\n",
        "[CV] C=10.0, gamma=0.1 ...............................................\n",
        "[CV] ...................... C=10.0, gamma=0.1, score=0.108407 -   0.2s"
       ]
      },
      {
       "output_type": "stream",
       "stream": "stdout",
       "text": [
        "\n",
        "[CV] C=10.0, gamma=0.1 ...............................................\n",
        "[CV] ...................... C=10.0, gamma=0.1, score=0.108647 -   0.2s"
       ]
      },
      {
       "output_type": "stream",
       "stream": "stdout",
       "text": [
        "\n",
        "[CV] C=10.0, gamma=0.1 ...............................................\n",
        "[CV] ...................... C=10.0, gamma=0.1, score=0.110360 -   0.2s"
       ]
      },
      {
       "output_type": "stream",
       "stream": "stdout",
       "text": [
        "\n",
        "[CV] C=10.0, gamma=1.0 ...............................................\n",
        "[CV] ...................... C=10.0, gamma=1.0, score=0.108407 -   0.2s"
       ]
      },
      {
       "output_type": "stream",
       "stream": "stdout",
       "text": [
        "\n",
        "[CV] C=10.0, gamma=1.0 ...............................................\n",
        "[CV] ...................... C=10.0, gamma=1.0, score=0.108647 -   0.2s"
       ]
      },
      {
       "output_type": "stream",
       "stream": "stdout",
       "text": [
        "\n",
        "[CV] C=10.0, gamma=1.0 ...............................................\n",
        "[CV] ...................... C=10.0, gamma=1.0, score=0.110360 -   0.2s"
       ]
      },
      {
       "output_type": "stream",
       "stream": "stdout",
       "text": [
        "\n",
        "[CV] C=10.0, gamma=10.0 ..............................................\n",
        "[CV] ..................... C=10.0, gamma=10.0, score=0.108407 -   0.2s"
       ]
      },
      {
       "output_type": "stream",
       "stream": "stdout",
       "text": [
        "\n",
        "[CV] C=10.0, gamma=10.0 ..............................................\n",
        "[CV] ..................... C=10.0, gamma=10.0, score=0.108647 -   0.2s"
       ]
      },
      {
       "output_type": "stream",
       "stream": "stdout",
       "text": [
        "\n",
        "[CV] C=10.0, gamma=10.0 ..............................................\n",
        "[CV] ..................... C=10.0, gamma=10.0, score=0.110360 -   0.2s"
       ]
      },
      {
       "output_type": "stream",
       "stream": "stdout",
       "text": [
        "\n",
        "[CV] C=10.0, gamma=100.0 .............................................\n",
        "[CV] .................... C=10.0, gamma=100.0, score=0.108407 -   0.2s"
       ]
      },
      {
       "output_type": "stream",
       "stream": "stdout",
       "text": [
        "\n",
        "[CV] C=10.0, gamma=100.0 .............................................\n",
        "[CV] .................... C=10.0, gamma=100.0, score=0.108647 -   0.2s"
       ]
      },
      {
       "output_type": "stream",
       "stream": "stdout",
       "text": [
        "\n",
        "[CV] C=10.0, gamma=100.0 .............................................\n",
        "[CV] .................... C=10.0, gamma=100.0, score=0.110360 -   0.2s"
       ]
      },
      {
       "output_type": "stream",
       "stream": "stdout",
       "text": [
        "\n",
        "[CV] C=100.0, gamma=0.001 ............................................\n",
        "[CV] ................... C=100.0, gamma=0.001, score=0.986726 -   0.1s"
       ]
      },
      {
       "output_type": "stream",
       "stream": "stdout",
       "text": [
        "\n",
        "[CV] C=100.0, gamma=0.001 ............................................\n",
        "[CV] ................... C=100.0, gamma=0.001, score=0.982262 -   0.1s"
       ]
      },
      {
       "output_type": "stream",
       "stream": "stdout",
       "text": [
        "\n",
        "[CV] C=100.0, gamma=0.001 ............................................\n",
        "[CV] ................... C=100.0, gamma=0.001, score=0.990991 -   0.1s"
       ]
      },
      {
       "output_type": "stream",
       "stream": "stdout",
       "text": [
        "\n",
        "[CV] C=100.0, gamma=0.01 .............................................\n",
        "[CV] .................... C=100.0, gamma=0.01, score=0.745575 -   0.2s"
       ]
      },
      {
       "output_type": "stream",
       "stream": "stdout",
       "text": [
        "\n",
        "[CV] C=100.0, gamma=0.01 .............................................\n",
        "[CV] .................... C=100.0, gamma=0.01, score=0.764967 -   0.2s"
       ]
      },
      {
       "output_type": "stream",
       "stream": "stdout",
       "text": [
        "\n",
        "[CV] C=100.0, gamma=0.01 .............................................\n",
        "[CV] .................... C=100.0, gamma=0.01, score=0.711712 -   0.2s"
       ]
      },
      {
       "output_type": "stream",
       "stream": "stdout",
       "text": [
        "\n",
        "[CV] C=100.0, gamma=0.1 ..............................................\n",
        "[CV] ..................... C=100.0, gamma=0.1, score=0.108407 -   0.2s"
       ]
      },
      {
       "output_type": "stream",
       "stream": "stdout",
       "text": [
        "\n",
        "[CV] C=100.0, gamma=0.1 ..............................................\n",
        "[CV] ..................... C=100.0, gamma=0.1, score=0.108647 -   0.2s"
       ]
      },
      {
       "output_type": "stream",
       "stream": "stdout",
       "text": [
        "\n",
        "[CV] C=100.0, gamma=0.1 ..............................................\n",
        "[CV] ..................... C=100.0, gamma=0.1, score=0.110360 -   0.2s"
       ]
      },
      {
       "output_type": "stream",
       "stream": "stdout",
       "text": [
        "\n",
        "[CV] C=100.0, gamma=1.0 ..............................................\n",
        "[CV] ..................... C=100.0, gamma=1.0, score=0.108407 -   0.2s"
       ]
      },
      {
       "output_type": "stream",
       "stream": "stdout",
       "text": [
        "\n",
        "[CV] C=100.0, gamma=1.0 ..............................................\n",
        "[CV] ..................... C=100.0, gamma=1.0, score=0.108647 -   0.2s"
       ]
      },
      {
       "output_type": "stream",
       "stream": "stdout",
       "text": [
        "\n",
        "[CV] C=100.0, gamma=1.0 ..............................................\n",
        "[CV] ..................... C=100.0, gamma=1.0, score=0.110360 -   0.2s"
       ]
      },
      {
       "output_type": "stream",
       "stream": "stdout",
       "text": [
        "\n",
        "[CV] C=100.0, gamma=10.0 .............................................\n",
        "[CV] .................... C=100.0, gamma=10.0, score=0.108407 -   0.2s"
       ]
      },
      {
       "output_type": "stream",
       "stream": "stdout",
       "text": [
        "\n",
        "[CV] C=100.0, gamma=10.0 .............................................\n",
        "[CV] .................... C=100.0, gamma=10.0, score=0.108647 -   0.2s"
       ]
      },
      {
       "output_type": "stream",
       "stream": "stdout",
       "text": [
        "\n",
        "[CV] C=100.0, gamma=10.0 .............................................\n",
        "[CV] .................... C=100.0, gamma=10.0, score=0.110360 -   0.2s"
       ]
      },
      {
       "output_type": "stream",
       "stream": "stdout",
       "text": [
        "\n",
        "[CV] C=100.0, gamma=100.0 ............................................\n",
        "[CV] ................... C=100.0, gamma=100.0, score=0.108407 -   0.2s"
       ]
      },
      {
       "output_type": "stream",
       "stream": "stdout",
       "text": [
        "\n",
        "[CV] C=100.0, gamma=100.0 ............................................\n",
        "[CV] ................... C=100.0, gamma=100.0, score=0.108647 -   0.2s"
       ]
      },
      {
       "output_type": "stream",
       "stream": "stdout",
       "text": [
        "\n",
        "[CV] C=100.0, gamma=100.0 ............................................\n",
        "[CV] ................... C=100.0, gamma=100.0, score=0.110360 -   0.2s"
       ]
      },
      {
       "output_type": "stream",
       "stream": "stdout",
       "text": [
        "\n"
       ]
      },
      {
       "output_type": "stream",
       "stream": "stderr",
       "text": [
        "[Parallel(n_jobs=1)]: Done 108 out of 108 | elapsed:   18.4s finished\n"
       ]
      },
      {
       "metadata": {},
       "output_type": "pyout",
       "prompt_number": 6,
       "text": [
        "GridSearchCV(cv=None, error_score='raise',\n",
        "       estimator=SVC(C=1.0, cache_size=200, class_weight=None, coef0=0.0, degree=3, gamma=0.0,\n",
        "  kernel='rbf', max_iter=-1, probability=False, random_state=None,\n",
        "  shrinking=True, tol=0.001, verbose=False),\n",
        "       fit_params={}, iid=True, loss_func=None, n_jobs=1,\n",
        "       param_grid={'C': array([   0.001,    0.01 ,    0.1  ,    1.   ,   10.   ,  100.   ]), 'gamma': array([   0.001,    0.01 ,    0.1  ,    1.   ,   10.   ,  100.   ])},\n",
        "       pre_dispatch='2*n_jobs', refit=True, score_func=None, scoring=None,\n",
        "       verbose=3)"
       ]
      }
     ],
     "prompt_number": 6
    },
    {
     "cell_type": "code",
     "collapsed": false,
     "input": [
      "grid_search.predict(X_test)"
     ],
     "language": "python",
     "metadata": {},
     "outputs": [
      {
       "metadata": {},
       "output_type": "pyout",
       "prompt_number": 8,
       "text": [
        "array([2, 4, 0, 6, 8, 1, 4, 8, 0, 6, 0, 3, 5, 2, 9, 8, 8, 6, 1, 4, 5, 3, 4,\n",
        "       6, 3, 9, 8, 5, 5, 5, 0, 9, 3, 0, 2, 3, 5, 7, 5, 9, 7, 7, 1, 1, 4, 5,\n",
        "       1, 3, 8, 0, 9, 8, 2, 7, 5, 7, 2, 2, 1, 1, 0, 5, 4, 9, 7, 5, 4, 0, 4,\n",
        "       9, 8, 9, 0, 7, 3, 8, 4, 0, 8, 6, 6, 8, 0, 3, 1, 0, 7, 6, 8, 0, 4, 4,\n",
        "       4, 8, 3, 7, 0, 6, 3, 7, 8, 7, 7, 1, 2, 4, 2, 5, 5, 5, 6, 1, 6, 6, 4,\n",
        "       9, 8, 2, 0, 6, 9, 1, 4, 4, 9, 1, 5, 8, 9, 6, 0, 4, 2, 2, 9, 6, 9, 7,\n",
        "       3, 6, 1, 2, 9, 9, 0, 7, 1, 9, 8, 6, 3, 9, 6, 2, 8, 7, 7, 7, 6, 1, 9,\n",
        "       0, 1, 5, 3, 1, 4, 0, 3, 4, 4, 7, 4, 4, 1, 8, 9, 1, 9, 6, 2, 6, 7, 1,\n",
        "       5, 9, 9, 4, 9, 7, 8, 4, 0, 6, 0, 2, 4, 4, 7, 1, 7, 9, 7, 8, 8, 8, 4,\n",
        "       6, 3, 3, 7, 9, 5, 6, 2, 4, 3, 5, 5, 3, 3, 8, 5, 3, 3, 8, 0, 6, 1, 0,\n",
        "       1, 1, 1, 8, 6, 4, 9, 6, 8, 2, 2, 1, 5, 7, 6, 0, 8, 9, 6, 8, 1, 9, 0,\n",
        "       1, 1, 9, 5, 3, 3, 5, 2, 1, 5, 0, 7, 1, 7, 0, 0, 7, 1, 9, 2, 3, 0, 3,\n",
        "       2, 9, 3, 5, 7, 1, 6, 6, 3, 4, 2, 5, 6, 6, 9, 5, 7, 8, 0, 2, 1, 2, 2,\n",
        "       8, 1, 4, 5, 6, 9, 5, 1, 5, 0, 2, 9, 7, 1, 4, 1, 2, 6, 5, 0, 3, 4, 1,\n",
        "       9, 8, 7, 4, 8, 4, 6, 8, 7, 7, 3, 5, 4, 9, 6, 9, 7, 4, 7, 3, 9, 2, 1,\n",
        "       1, 0, 2, 7, 2, 9, 8, 4, 6, 5, 4, 4, 3, 8, 0, 5, 5, 2, 2, 6, 5, 1, 6,\n",
        "       0, 0, 8, 2, 0, 7, 2, 4, 1, 5, 1, 6, 2, 0, 8, 1, 8, 7, 2, 5, 8, 2, 9,\n",
        "       1, 0, 7, 2, 2, 5, 2, 2, 0, 1, 2, 0, 3, 2, 5, 0, 7, 7, 8, 7, 8, 6, 8,\n",
        "       7, 8, 7, 6, 5, 0, 6, 6, 3, 3, 0, 5, 8, 0, 7, 1, 6, 6, 8, 0, 6, 5, 9,\n",
        "       6, 4, 1, 4, 9, 3, 0, 6, 8, 8, 3, 4, 8])"
       ]
      }
     ],
     "prompt_number": 8
    },
    {
     "cell_type": "code",
     "collapsed": false,
     "input": [
      "grid_search.score(X_test, y_test)"
     ],
     "language": "python",
     "metadata": {},
     "outputs": [
      {
       "metadata": {},
       "output_type": "pyout",
       "prompt_number": 9,
       "text": [
        "0.98444444444444446"
       ]
      }
     ],
     "prompt_number": 9
    },
    {
     "cell_type": "code",
     "collapsed": false,
     "input": [
      "grid_search.best_params_"
     ],
     "language": "python",
     "metadata": {},
     "outputs": [
      {
       "metadata": {},
       "output_type": "pyout",
       "prompt_number": 10,
       "text": [
        "{'C': 10.0, 'gamma': 0.001}"
       ]
      }
     ],
     "prompt_number": 10
    },
    {
     "cell_type": "code",
     "collapsed": false,
     "input": [
      "# We extract just the scores\n",
      "%matplotlib inline\n",
      "import matplotlib.pyplot as plt\n",
      "\n",
      "scores = [x[1] for x in grid_search.grid_scores_]\n",
      "scores = np.array(scores).reshape(6, 6)\n",
      "\n",
      "plt.matshow(scores)\n",
      "plt.xlabel('gamma')\n",
      "plt.ylabel('C')\n",
      "plt.colorbar()\n",
      "plt.xticks(np.arange(6), param_grid['gamma'])\n",
      "plt.yticks(np.arange(6), param_grid['C']);"
     ],
     "language": "python",
     "metadata": {},
     "outputs": [
      {
       "metadata": {},
       "output_type": "display_data",
       "png": "[encoded data removed]",
       "text": [
        "<matplotlib.figure.Figure at 0x7fa098a3efd0>"
       ]
      }
     ],
     "prompt_number": 29
    },
    {
     "cell_type": "markdown",
     "metadata": {},
     "source": [
      "Preprocessing and Pipelines\n",
      "============================="
     ]
    },
    {
     "cell_type": "code",
     "collapsed": false,
     "input": [
      "from sklearn.preprocessing import StandardScaler"
     ],
     "language": "python",
     "metadata": {},
     "outputs": [],
     "prompt_number": 12
    },
    {
     "cell_type": "code",
     "collapsed": false,
     "input": [
      "scaler = StandardScaler()"
     ],
     "language": "python",
     "metadata": {},
     "outputs": [],
     "prompt_number": 13
    },
    {
     "cell_type": "markdown",
     "metadata": {},
     "source": [
      "Fit only using the data."
     ]
    },
    {
     "cell_type": "code",
     "collapsed": false,
     "input": [
      "scaler.fit(X_train)"
     ],
     "language": "python",
     "metadata": {},
     "outputs": [
      {
       "metadata": {},
       "output_type": "pyout",
       "prompt_number": 14,
       "text": [
        "StandardScaler(copy=True, with_mean=True, with_std=True)"
       ]
      }
     ],
     "prompt_number": 14
    },
    {
     "cell_type": "markdown",
     "metadata": {},
     "source": [
      "`transform` the data (not predict)."
     ]
    },
    {
     "cell_type": "code",
     "collapsed": false,
     "input": [
      "X_train_scaled = scaler.transform(X_train)"
     ],
     "language": "python",
     "metadata": {},
     "outputs": [],
     "prompt_number": 15
    },
    {
     "cell_type": "code",
     "collapsed": false,
     "input": [
      "X_train_scaled.mean(axis=0)"
     ],
     "language": "python",
     "metadata": {},
     "outputs": [
      {
       "metadata": {},
       "output_type": "pyout",
       "prompt_number": 16,
       "text": [
        "array([ 0.,  0.,  0., -0.,  0.,  0.,  0.,  0.,  0., -0., -0.,  0., -0.,\n",
        "       -0., -0., -0.,  0.,  0., -0.,  0.,  0., -0.,  0.,  0., -0., -0.,\n",
        "       -0.,  0.,  0.,  0., -0., -0.,  0.,  0., -0.,  0.,  0.,  0., -0.,\n",
        "        0.,  0.,  0.,  0., -0., -0., -0.,  0., -0., -0.,  0.,  0.,  0.,\n",
        "        0., -0.,  0.,  0., -0.,  0., -0.,  0., -0., -0., -0.,  0.])"
       ]
      }
     ],
     "prompt_number": 16
    },
    {
     "cell_type": "code",
     "collapsed": false,
     "input": [
      "X_train_scaled.std(axis=0)"
     ],
     "language": "python",
     "metadata": {},
     "outputs": [
      {
       "metadata": {},
       "output_type": "pyout",
       "prompt_number": 17,
       "text": [
        "array([ 0.,  1.,  1.,  1.,  1.,  1.,  1.,  1.,  1.,  1.,  1.,  1.,  1.,\n",
        "        1.,  1.,  1.,  1.,  1.,  1.,  1.,  1.,  1.,  1.,  1.,  1.,  1.,\n",
        "        1.,  1.,  1.,  1.,  1.,  1.,  0.,  1.,  1.,  1.,  1.,  1.,  1.,\n",
        "        0.,  1.,  1.,  1.,  1.,  1.,  1.,  1.,  1.,  1.,  1.,  1.,  1.,\n",
        "        1.,  1.,  1.,  1.,  1.,  1.,  1.,  1.,  1.,  1.,  1.,  1.])"
       ]
      }
     ],
     "prompt_number": 17
    },
    {
     "cell_type": "markdown",
     "metadata": {},
     "source": [
      "For cross-validation, we need to estimate mean and standard deviation separately for each fold.\n",
      "To do that, we build a pipeline."
     ]
    },
    {
     "cell_type": "code",
     "collapsed": false,
     "input": [
      "from sklearn.pipeline import Pipeline"
     ],
     "language": "python",
     "metadata": {},
     "outputs": [],
     "prompt_number": 18
    },
    {
     "cell_type": "code",
     "collapsed": false,
     "input": [
      "pipeline = Pipeline([(\"scaler\", StandardScaler()), (\"svm\", SVC())])"
     ],
     "language": "python",
     "metadata": {},
     "outputs": [],
     "prompt_number": 19
    },
    {
     "cell_type": "code",
     "collapsed": false,
     "input": [
      "pipeline.fit(X_train, y_train)"
     ],
     "language": "python",
     "metadata": {},
     "outputs": [
      {
       "metadata": {},
       "output_type": "pyout",
       "prompt_number": 20,
       "text": [
        "Pipeline(steps=[('scaler', StandardScaler(copy=True, with_mean=True, with_std=True)), ('svm', SVC(C=1.0, cache_size=200, class_weight=None, coef0=0.0, degree=3, gamma=0.0,\n",
        "  kernel='rbf', max_iter=-1, probability=False, random_state=None,\n",
        "  shrinking=True, tol=0.001, verbose=False))])"
       ]
      }
     ],
     "prompt_number": 20
    },
    {
     "cell_type": "code",
     "collapsed": false,
     "input": [
      "pipeline.predict(X_train)"
     ],
     "language": "python",
     "metadata": {},
     "outputs": [
      {
       "metadata": {},
       "output_type": "pyout",
       "prompt_number": 21,
       "text": [
        "array([2, 9, 0, ..., 3, 0, 6])"
       ]
      }
     ],
     "prompt_number": 21
    },
    {
     "cell_type": "markdown",
     "metadata": {},
     "source": [
      "Cross-validation with a pipeline\n",
      "---------------------------------"
     ]
    },
    {
     "cell_type": "code",
     "collapsed": false,
     "input": [
      "from sklearn.cross_validation import cross_val_score\n",
      "cross_val_score(pipeline, X_train, y_train)"
     ],
     "language": "python",
     "metadata": {},
     "outputs": [
      {
       "metadata": {},
       "output_type": "pyout",
       "prompt_number": 22,
       "text": [
        "array([ 0.96902655,  0.97339246,  0.98423423])"
       ]
      }
     ],
     "prompt_number": 22
    },
    {
     "cell_type": "markdown",
     "metadata": {},
     "source": [
      "Grid Search with a pipeline\n",
      "==========================="
     ]
    },
    {
     "cell_type": "code",
     "collapsed": false,
     "input": [
      "param_grid_pipeline = {'svm__C': 10. ** np.arange(-3, 3), 'svm__gamma' : 10. ** np.arange(-3, 3)}\n",
      "\n",
      "grid_pipeline = GridSearchCV(pipeline, param_grid=param_grid_pipeline)"
     ],
     "language": "python",
     "metadata": {},
     "outputs": [],
     "prompt_number": 25
    },
    {
     "cell_type": "code",
     "collapsed": false,
     "input": [
      "grid_pipeline.fit(X_train, y_train)"
     ],
     "language": "python",
     "metadata": {},
     "outputs": [
      {
       "output_type": "stream",
       "stream": "stdout",
       "text": [
        "\n",
        "[CV] svm__C=100.0, svm__gamma=100.0 ..................................\n",
        "[CV] ......... svm__C=100.0, svm__gamma=100.0, score=0.108647 -   0.2s"
       ]
      },
      {
       "output_type": "stream",
       "stream": "stdout",
       "text": [
        "\n",
        "[CV] svm__C=100.0, svm__gamma=100.0 ..................................\n",
        "[CV] ......... svm__C=100.0, svm__gamma=100.0, score=0.110360 -   0.2s"
       ]
      },
      {
       "output_type": "stream",
       "stream": "stdout",
       "text": [
        "\n"
       ]
      },
      {
       "output_type": "stream",
       "stream": "stderr",
       "text": [
        "[Parallel(n_jobs=1)]: Done 108 out of 108 | elapsed:   19.2s finished\n"
       ]
      },
      {
       "metadata": {},
       "output_type": "pyout",
       "prompt_number": 24,
       "text": [
        "GridSearchCV(cv=None, error_score='raise',\n",
        "       estimator=Pipeline(steps=[('scaler', StandardScaler(copy=True, with_mean=True, with_std=True)), ('svm', SVC(C=1.0, cache_size=200, class_weight=None, coef0=0.0, degree=3, gamma=0.0,\n",
        "  kernel='rbf', max_iter=-1, probability=False, random_state=None,\n",
        "  shrinking=True, tol=0.001, verbose=False))]),\n",
        "       fit_params={}, iid=True, loss_func=None, n_jobs=1,\n",
        "       param_grid={'svm__C': array([   0.001,    0.01 ,    0.1  ,    1.   ,   10.   ,  100.   ]), 'svm__gamma': array([   0.001,    0.01 ,    0.1  ,    1.   ,   10.   ,  100.   ])},\n",
        "       pre_dispatch='2*n_jobs', refit=True, score_func=None, scoring=None,\n",
        "       verbose=3)"
       ]
      },
      {
       "metadata": {},
       "output_type": "pyout",
       "prompt_number": 26,
       "text": [
        "GridSearchCV(cv=None, error_score='raise',\n",
        "       estimator=Pipeline(steps=[('scaler', StandardScaler(copy=True, with_mean=True, with_std=True)), ('svm', SVC(C=1.0, cache_size=200, class_weight=None, coef0=0.0, degree=3, gamma=0.0,\n",
        "  kernel='rbf', max_iter=-1, probability=False, random_state=None,\n",
        "  shrinking=True, tol=0.001, verbose=False))]),\n",
        "       fit_params={}, iid=True, loss_func=None, n_jobs=1,\n",
        "       param_grid={'svm__C': array([   0.001,    0.01 ,    0.1  ,    1.   ,   10.   ,  100.   ]), 'svm__gamma': array([   0.001,    0.01 ,    0.1  ,    1.   ,   10.   ,  100.   ])},\n",
        "       pre_dispatch='2*n_jobs', refit=True, score_func=None, scoring=None,\n",
        "       verbose=0)"
       ]
      }
     ],
     "prompt_number": 26
    },
    {
     "cell_type": "code",
     "collapsed": false,
     "input": [
      "# We extract just the scores\n",
      "scores = [x[1] for x in grid_pipeline.grid_scores_]\n",
      "scores = np.array(scores).reshape(6, 6)\n",
      "\n",
      "plt.matshow(scores)\n",
      "plt.xlabel('gamma')\n",
      "plt.ylabel('C')\n",
      "plt.colorbar()\n",
      "plt.xticks(np.arange(6), param_grid['gamma'])\n",
      "plt.yticks(np.arange(6), param_grid['C']);"
     ],
     "language": "python",
     "metadata": {},
     "outputs": [
      {
       "metadata": {},
       "output_type": "display_data",
       "png": "[encoded data removed]",
       "text": [
        "<matplotlib.figure.Figure at 0x7fa098719c10>"
       ]
      }
     ],
     "prompt_number": 28
    }
   ],
   "metadata": {}
  }
 ]
}